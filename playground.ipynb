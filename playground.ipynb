{
 "cells": [
  {
   "cell_type": "code",
   "execution_count": 1,
   "metadata": {},
   "outputs": [],
   "source": [
    "import os\n",
    "import torch\n",
    "from LatentPixel import LatentGPT2, LPixelForMLM, TGraph, LPixelForClassification\n",
    "from LatentPixel.training import ExpConfig\n",
    "from LatentPixel import get_glue_dataset, GLUE_META\n",
    "from LatentPixel import RenderConfig\n",
    "\n",
    "_ = TGraph.init_render(dpi=180, pixels_per_patch=24)"
   ]
  },
  {
   "cell_type": "code",
   "execution_count": 2,
   "metadata": {},
   "outputs": [
    {
     "data": {
      "text/plain": [
       "[('cola', ([LatentPixel.metrics.metrics.MC], 2)),\n",
       " ('sst2', ([LatentPixel.metrics.metrics.Accuracy], 2)),\n",
       " ('mrpc',\n",
       "  ([LatentPixel.metrics.metrics.Accuracy, LatentPixel.metrics.metrics.F1], 2)),\n",
       " ('stsb',\n",
       "  ([LatentPixel.metrics.metrics.PC, LatentPixel.metrics.metrics.SC], -1)),\n",
       " ('qqp',\n",
       "  ([LatentPixel.metrics.metrics.Accuracy, LatentPixel.metrics.metrics.F1], 2)),\n",
       " ('mnli', ([LatentPixel.metrics.metrics.Accuracy], 3)),\n",
       " ('qnli', ([LatentPixel.metrics.metrics.Accuracy], 2)),\n",
       " ('rte', ([LatentPixel.metrics.metrics.Accuracy], 2)),\n",
       " ('wnli', ([LatentPixel.metrics.metrics.Accuracy], 2))]"
      ]
     },
     "execution_count": 2,
     "metadata": {},
     "output_type": "execute_result"
    }
   ],
   "source": [
    "GLUE_META"
   ]
  },
  {
   "cell_type": "code",
   "execution_count": 3,
   "metadata": {},
   "outputs": [
    {
     "data": {
      "text/plain": [
       "ExpConfig(model='LPixelForMLM', init_path='', backbone_path='', coder_path='', render_path='storage/pixel-base', checkpoint_path='storage/checkpoints', dataset_paths=[''], seed=42, exp_type='debug', task='lpixel_pretrain', stage=1, optim='AdamW', scheduler='CosineAnnealingLR', batch_size=256, sub_size=128, eval_batch_size=256, eval_num_batch=12, lr=1e-05, beta1=0.9, beta2=0.95, decay=0.01, momentum=0.95, clip=1.0, mask_ratio=0.25, mask_type='span', total_steps=4000, max_token=512, eval_freq=100, save_freq=1000, best_save_freq=100, test_gpu_usibility=False, dpi=120, font_size=8, pad_size=3, pixels_per_patch=16, compress_ratio=8, font_file='GoNotoCurrent.ttf', image_size=[3, 16, 8464], latent_size=[3, 16, 8464], torch_compile=False, dynamic_shape=False, mix_precision='no', half_precision=False, half_coder=False, gradient_checkpointing=False, num_gpu_per_node=1, num_node=2, mp_workers=4, shard_strategy='no', offload_to_cpu=False, backward_prefetch='pre', on_cpu=False, current_step=1, num_trained_tokens=0, shuffle_dataset=False, init=False, no_ckpt=False, no_log=False, _best_loss=1000000000.0, _best_loss_step=-1, _best_dev_loss=1000000000.0, _best_dev_loss_step=-1, _timestamp=None, _continued=False, _name=None, _epoch=1, _num_grad_acc_step=-1, _num_gpu=-1, _rank=-1, _world_size=-1, _device_id=-1, _local_world_size=-1, _render_config=None)"
      ]
     },
     "execution_count": 3,
     "metadata": {},
     "output_type": "execute_result"
    }
   ],
   "source": [
    "config = ExpConfig()\n",
    "config"
   ]
  },
  {
   "cell_type": "code",
   "execution_count": 5,
   "metadata": {},
   "outputs": [
    {
     "name": "stderr",
     "output_type": "stream",
     "text": [
      "Found cached dataset glue (/home/sc118/sc118/yintaotai/.cache/huggingface/datasets/glue/mnli/1.0.0/dacbe3125aa31d7f70367a07a8a9e72a5a0bfeb5fc42e75c9db75b96da6053ad)\n",
      "Found cached dataset glue (/home/sc118/sc118/yintaotai/.cache/huggingface/datasets/glue/mnli/1.0.0/dacbe3125aa31d7f70367a07a8a9e72a5a0bfeb5fc42e75c9db75b96da6053ad)\n",
      "Found cached dataset glue (/home/sc118/sc118/yintaotai/.cache/huggingface/datasets/glue/mnli/1.0.0/dacbe3125aa31d7f70367a07a8a9e72a5a0bfeb5fc42e75c9db75b96da6053ad)\n"
     ]
    }
   ],
   "source": [
    "train_loader, dev_loaders, metrics, num_labels = get_glue_dataset('mnli', sub_size=4, mp_workers=4, seed=42, render_config=RenderConfig(dpi=180, pixels_per_patch=24))"
   ]
  },
  {
   "cell_type": "code",
   "execution_count": 6,
   "metadata": {},
   "outputs": [
    {
     "name": "stdout",
     "output_type": "stream",
     "text": [
      "pid 1159225's current affinity mask: 1000000001\n",
      "pid 1159225's new affinity mask: ffffffffff\n",
      "pid 1159278's current affinity mask: 1000000001\n",
      "pid 1159278's new affinity mask: ffffffffff\n",
      "pid 1159162's current affinity mask: 1000000001\n",
      "pid 1159162's new affinity mask: ffffffffff\n",
      "pid 1159228's current affinity mask: 1000000001\n",
      "pid 1159228's new affinity mask: ffffffffff\n"
     ]
    },
    {
     "data": {
      "text/plain": [
       "3"
      ]
     },
     "execution_count": 6,
     "metadata": {},
     "output_type": "execute_result"
    }
   ],
   "source": [
    "tb = next(iter(dev_loaders[0]))\n",
    "num_labels"
   ]
  },
  {
   "cell_type": "code",
   "execution_count": 8,
   "metadata": {},
   "outputs": [
    {
     "name": "stdout",
     "output_type": "stream",
     "text": [
      "loading the coder from storage/SD2_VQGAN\n"
     ]
    },
    {
     "name": "stderr",
     "output_type": "stream",
     "text": [
      "Some weights of the model checkpoint at storage/checkpoints/HL_pixel_2/lpixel_pretrain/LPixelForMLM/20230801-164748/100000/backbone were not used when initializing PIXELForSequenceClassification: ['decoder.decoder_layers.7.attention.output.dense.bias', 'decoder.decoder_layers.4.layernorm_after.weight', 'decoder.decoder_layers.3.attention.output.dense.weight', 'decoder.decoder_layers.4.layernorm_before.weight', 'decoder.decoder_layers.5.attention.output.dense.bias', 'decoder.decoder_layers.1.attention.output.dense.weight', 'decoder.decoder_layers.4.layernorm_before.bias', 'decoder.decoder_layers.4.attention.attention.value.bias', 'decoder.decoder_layers.3.layernorm_before.bias', 'decoder.decoder_layers.3.intermediate.dense.weight', 'decoder.decoder_layers.7.output.dense.bias', 'decoder.decoder_layers.7.attention.attention.key.weight', 'decoder.decoder_layers.1.intermediate.dense.bias', 'decoder.decoder_layers.5.layernorm_before.bias', 'decoder.decoder_layers.6.attention.attention.key.weight', 'decoder.decoder_layers.4.attention.attention.key.weight', 'decoder.decoder_layers.6.layernorm_before.bias', 'decoder.decoder_layers.2.layernorm_after.bias', 'decoder.decoder_layers.7.output.dense.weight', 'decoder.decoder_layers.3.attention.attention.query.bias', 'decoder.decoder_layers.2.attention.attention.key.bias', 'decoder.decoder_layers.7.layernorm_before.bias', 'decoder.decoder_layers.5.intermediate.dense.bias', 'decoder.decoder_layers.2.attention.attention.key.weight', 'decoder.decoder_layers.3.layernorm_after.weight', 'decoder.decoder_layers.4.attention.attention.value.weight', 'decoder.decoder_layers.3.layernorm_after.bias', 'decoder.decoder_layers.3.layernorm_before.weight', 'decoder.decoder_pred.bias', 'decoder.decoder_layers.4.attention.attention.query.bias', 'decoder.decoder_layers.6.attention.attention.value.weight', 'decoder.decoder_layers.0.attention.attention.key.bias', 'decoder.decoder_layers.3.attention.attention.key.bias', 'decoder.decoder_layers.7.attention.attention.query.weight', 'decoder.decoder_layers.5.attention.output.dense.weight', 'decoder.decoder_layers.3.attention.attention.key.weight', 'decoder.decoder_layers.6.attention.attention.query.bias', 'decoder.decoder_layers.7.intermediate.dense.bias', 'decoder.decoder_layers.1.layernorm_after.bias', 'decoder.decoder_layers.0.output.dense.bias', 'decoder.decoder_layers.2.layernorm_before.bias', 'decoder.decoder_layers.2.attention.attention.query.bias', 'decoder.decoder_layers.2.layernorm_after.weight', 'decoder.decoder_layers.4.attention.attention.query.weight', 'decoder.decoder_layers.6.layernorm_after.weight', 'decoder.decoder_layers.2.intermediate.dense.weight', 'decoder.decoder_norm.weight', 'decoder.decoder_layers.4.layernorm_after.bias', 'decoder.decoder_layers.5.attention.attention.query.weight', 'decoder.decoder_layers.4.attention.output.dense.bias', 'decoder.decoder_layers.4.attention.attention.key.bias', 'decoder.decoder_layers.7.layernorm_before.weight', 'decoder.decoder_layers.6.attention.output.dense.weight', 'decoder.decoder_layers.0.attention.attention.value.bias', 'decoder.decoder_layers.6.attention.output.dense.bias', 'decoder.decoder_layers.3.attention.attention.value.bias', 'decoder.decoder_layers.1.attention.output.dense.bias', 'decoder.decoder_layers.5.layernorm_after.weight', 'decoder.decoder_layers.7.attention.output.dense.weight', 'decoder.decoder_layers.1.layernorm_before.bias', 'decoder.decoder_layers.0.attention.attention.value.weight', 'decoder.decoder_layers.5.output.dense.weight', 'decoder.decoder_layers.5.layernorm_after.bias', 'decoder.decoder_layers.5.attention.attention.query.bias', 'decoder.decoder_layers.1.output.dense.weight', 'decoder.decoder_layers.4.attention.output.dense.weight', 'decoder.decoder_layers.0.attention.attention.query.weight', 'decoder.decoder_layers.5.attention.attention.key.weight', 'decoder.decoder_layers.5.output.dense.bias', 'decoder.decoder_layers.2.attention.output.dense.bias', 'decoder.decoder_layers.1.attention.attention.key.weight', 'decoder.decoder_layers.3.attention.output.dense.bias', 'decoder.decoder_layers.6.layernorm_before.weight', 'decoder.decoder_layers.0.intermediate.dense.bias', 'decoder.decoder_layers.2.layernorm_before.weight', 'decoder.decoder_layers.7.attention.attention.key.bias', 'decoder.decoder_layers.1.attention.attention.key.bias', 'decoder.decoder_layers.0.attention.attention.key.weight', 'decoder.decoder_layers.0.intermediate.dense.weight', 'decoder.decoder_norm.bias', 'decoder.decoder_layers.1.attention.attention.query.bias', 'decoder.decoder_embed.weight', 'decoder.decoder_layers.5.attention.attention.value.weight', 'decoder.decoder_layers.0.layernorm_before.weight', 'decoder.decoder_layers.3.output.dense.bias', 'decoder.decoder_layers.2.intermediate.dense.bias', 'decoder.decoder_layers.6.output.dense.bias', 'decoder.decoder_layers.2.output.dense.weight', 'decoder.decoder_layers.1.attention.attention.value.bias', 'decoder.decoder_layers.1.layernorm_after.weight', 'decoder.decoder_embed.bias', 'decoder.decoder_layers.7.attention.attention.query.bias', 'decoder.decoder_layers.3.attention.attention.query.weight', 'decoder.decoder_layers.0.attention.output.dense.bias', 'decoder.decoder_layers.5.attention.attention.key.bias', 'decoder.decoder_layers.0.layernorm_after.bias', 'decoder.decoder_layers.7.attention.attention.value.bias', 'decoder.decoder_layers.6.layernorm_after.bias', 'decoder.decoder_layers.1.output.dense.bias', 'decoder.decoder_layers.0.attention.attention.query.bias', 'decoder.decoder_layers.6.attention.attention.key.bias', 'decoder.decoder_layers.0.output.dense.weight', 'decoder.decoder_layers.7.attention.attention.value.weight', 'decoder.decoder_layers.2.attention.output.dense.weight', 'decoder.decoder_layers.6.attention.attention.value.bias', 'decoder.decoder_layers.0.layernorm_after.weight', 'decoder.decoder_layers.1.attention.attention.value.weight', 'decoder.decoder_layers.6.intermediate.dense.bias', 'decoder.decoder_layers.3.output.dense.weight', 'decoder.mask_token', 'decoder.decoder_layers.4.intermediate.dense.weight', 'decoder.decoder_layers.1.layernorm_before.weight', 'decoder.decoder_layers.5.intermediate.dense.weight', 'decoder.decoder_layers.0.layernorm_before.bias', 'decoder.decoder_pos_embed', 'decoder.decoder_layers.1.intermediate.dense.weight', 'decoder.decoder_layers.4.output.dense.bias', 'decoder.decoder_layers.0.attention.output.dense.weight', 'decoder.decoder_layers.7.intermediate.dense.weight', 'decoder.decoder_layers.6.attention.attention.query.weight', 'decoder.decoder_layers.6.output.dense.weight', 'decoder.decoder_layers.2.attention.attention.value.weight', 'decoder.decoder_layers.5.layernorm_before.weight', 'decoder.decoder_layers.7.layernorm_after.bias', 'decoder.decoder_pred.weight', 'decoder.decoder_layers.3.attention.attention.value.weight', 'decoder.decoder_layers.2.attention.attention.query.weight', 'decoder.decoder_layers.7.layernorm_after.weight', 'decoder.decoder_layers.2.attention.attention.value.bias', 'decoder.decoder_layers.1.attention.attention.query.weight', 'decoder.decoder_layers.4.intermediate.dense.bias', 'decoder.decoder_layers.3.intermediate.dense.bias', 'decoder.decoder_layers.4.output.dense.weight', 'decoder.decoder_layers.6.intermediate.dense.weight', 'decoder.decoder_layers.2.output.dense.bias', 'decoder.decoder_layers.5.attention.attention.value.bias']\n",
      "- This IS expected if you are initializing PIXELForSequenceClassification from the checkpoint of a model trained on another task or with another architecture (e.g. initializing a BertForSequenceClassification model from a BertForPreTraining model).\n",
      "- This IS NOT expected if you are initializing PIXELForSequenceClassification from the checkpoint of a model that you expect to be exactly identical (initializing a BertForSequenceClassification model from a BertForSequenceClassification model).\n",
      "Some weights of PIXELForSequenceClassification were not initialized from the model checkpoint at storage/checkpoints/HL_pixel_2/lpixel_pretrain/LPixelForMLM/20230801-164748/100000/backbone and are newly initialized: ['pooler.linear.weight', 'classifier.weight', 'pooler.ln.bias', 'classifier.bias', 'pooler.linear.bias', 'pooler.ln.weight']\n",
      "You should probably TRAIN this model on a down-stream task to be able to use it for predictions and inference.\n"
     ]
    },
    {
     "name": "stdout",
     "output_type": "stream",
     "text": [
      "delete the decoder\n",
      "The decoder of the coder is deleted\n"
     ]
    }
   ],
   "source": [
    "model = LPixelForClassification(\n",
    "    coder_path='storage/SD2_VQGAN',\n",
    "    backbone_path='storage/checkpoints/HL_pixel_2/lpixel_pretrain/LPixelForMLM/20230801-164748/100000/backbone',\n",
    "    img_size=[3, 24, 12696],\n",
    "    latent_size=[4, 3, 12696 // 8],\n",
    "    num_labels=num_labels\n",
    ")\n",
    "model.delete_unused_layers()"
   ]
  },
  {
   "cell_type": "code",
   "execution_count": 28,
   "metadata": {},
   "outputs": [
    {
     "data": {
      "text/plain": [
       "torch.Size([4, 3, 24, 12696])"
      ]
     },
     "execution_count": 28,
     "metadata": {},
     "output_type": "execute_result"
    }
   ],
   "source": [
    "tb._value.shape"
   ]
  },
  {
   "cell_type": "code",
   "execution_count": 36,
   "metadata": {},
   "outputs": [
    {
     "name": "stdout",
     "output_type": "stream",
     "text": [
      "The decoder of the coder is deleted\n"
     ]
    }
   ],
   "source": [
    "model.delete_unused_layers()"
   ]
  },
  {
   "cell_type": "code",
   "execution_count": 9,
   "metadata": {},
   "outputs": [
    {
     "name": "stderr",
     "output_type": "stream",
     "text": [
      "/work/sc118/sc118/yintaotai/miniconda3/envs/pt2hfpy310/lib/python3.10/site-packages/transformers/modeling_utils.py:884: FutureWarning: The `device` argument is deprecated and will be removed in v5 of Transformers.\n",
      "  warnings.warn(\n"
     ]
    }
   ],
   "source": [
    "with torch.no_grad():\n",
    "    result = model(tb)"
   ]
  },
  {
   "cell_type": "code",
   "execution_count": 10,
   "metadata": {},
   "outputs": [
    {
     "data": {
      "text/plain": [
       "tensor(1.0831)"
      ]
     },
     "execution_count": 10,
     "metadata": {},
     "output_type": "execute_result"
    }
   ],
   "source": [
    "result.loss"
   ]
  },
  {
   "cell_type": "code",
   "execution_count": 14,
   "metadata": {},
   "outputs": [
    {
     "data": {
      "text/plain": [
       "tensor([[-0.3468, -0.8664, -0.2123],\n",
       "        [-0.2795, -0.8263, -0.2373],\n",
       "        [-0.3301, -0.8646, -0.1751],\n",
       "        [-0.2990, -0.8279, -0.1640]])"
      ]
     },
     "execution_count": 14,
     "metadata": {},
     "output_type": "execute_result"
    }
   ],
   "source": [
    "result.value"
   ]
  },
  {
   "cell_type": "code",
   "execution_count": 15,
   "metadata": {},
   "outputs": [
    {
     "data": {
      "text/plain": [
       "tensor([2, 2, 2, 2])"
      ]
     },
     "execution_count": 15,
     "metadata": {},
     "output_type": "execute_result"
    }
   ],
   "source": [
    "result.predcits"
   ]
  },
  {
   "cell_type": "code",
   "execution_count": 17,
   "metadata": {},
   "outputs": [
    {
     "name": "stdout",
     "output_type": "stream",
     "text": [
      "loading the coder from storage/SD2_VQGAN/\n"
     ]
    }
   ],
   "source": [
    "gpt = LatentGPT2(coder_path='storage/SD2_VQGAN/', backbone_path='storage/checkpoints/HL_gpt2_1/lpixel_pretrain/LatentGPT2/20230728-024648/2000/backbone', img_size=[3, 24, 24*529], latent_size=[4, 3, 3*529])\n",
    "# gpt.init_connection_layers()"
   ]
  },
  {
   "cell_type": "code",
   "execution_count": 20,
   "metadata": {},
   "outputs": [
    {
     "data": {
      "text/plain": [
       "Embedding(50257, 768)"
      ]
     },
     "execution_count": 20,
     "metadata": {},
     "output_type": "execute_result"
    }
   ],
   "source": [
    "gpt.backbone.wte"
   ]
  },
  {
   "cell_type": "code",
   "execution_count": 4,
   "metadata": {},
   "outputs": [
    {
     "data": {
      "text/plain": [
       "tensor([[1, 0, 0,  ..., 1, 0, 1],\n",
       "        [0, 0, 0,  ..., 1, 1, 0]], dtype=torch.int32)"
      ]
     },
     "execution_count": 4,
     "metadata": {},
     "output_type": "execute_result"
    }
   ],
   "source": [
    "tg = TGraph.from_text(['this is a sentence' * 10, 'this is another sentence'])\n",
    "tg.init_patch_mask('rand')\n",
    "# r: TGraph = pixel(tg)"
   ]
  },
  {
   "cell_type": "code",
   "execution_count": 12,
   "metadata": {},
   "outputs": [
    {
     "name": "stderr",
     "output_type": "stream",
     "text": [
      "/work/sc118/sc118/yintaotai/miniconda3/envs/pt2hfpy310/lib/python3.10/site-packages/transformers/modeling_utils.py:884: FutureWarning: The `device` argument is deprecated and will be removed in v5 of Transformers.\n",
      "  warnings.warn(\n"
     ]
    }
   ],
   "source": [
    "tg.labels = torch.tensor([1, 1])\n",
    "r = pixel(tg)"
   ]
  },
  {
   "cell_type": "code",
   "execution_count": 13,
   "metadata": {},
   "outputs": [
    {
     "data": {
      "text/plain": [
       "tensor(1.7561, grad_fn=<NllLossBackward0>)"
      ]
     },
     "execution_count": 13,
     "metadata": {},
     "output_type": "execute_result"
    }
   ],
   "source": [
    "r.loss"
   ]
  },
  {
   "cell_type": "code",
   "execution_count": 5,
   "metadata": {},
   "outputs": [
    {
     "name": "stdout",
     "output_type": "stream",
     "text": [
      "delete the decoder\n"
     ]
    }
   ],
   "source": [
    "gpt.delete_unused_layers()"
   ]
  },
  {
   "cell_type": "code",
   "execution_count": 6,
   "metadata": {},
   "outputs": [
    {
     "name": "stdout",
     "output_type": "stream",
     "text": [
      "loss torch.Size([2, 4, 4, 2116])\n",
      "attention_mask torch.Size([2, 1, 4, 2116])\n"
     ]
    }
   ],
   "source": [
    "r = gpt(tg)"
   ]
  },
  {
   "cell_type": "code",
   "execution_count": 10,
   "metadata": {},
   "outputs": [
    {
     "data": {
      "text/plain": [
       "tensor(-91.8794, grad_fn=<MinBackward1>)"
      ]
     },
     "execution_count": 10,
     "metadata": {},
     "output_type": "execute_result"
    }
   ],
   "source": [
    "r._value.min()"
   ]
  },
  {
   "cell_type": "code",
   "execution_count": 24,
   "metadata": {},
   "outputs": [
    {
     "data": {
      "text/plain": [
       "torch.Size([2, 529])"
      ]
     },
     "execution_count": 24,
     "metadata": {},
     "output_type": "execute_result"
    }
   ],
   "source": [
    "latent.attention_mask.shape"
   ]
  },
  {
   "cell_type": "code",
   "execution_count": 28,
   "metadata": {},
   "outputs": [
    {
     "data": {
      "text/plain": [
       "'single_label_classification'"
      ]
     },
     "execution_count": 28,
     "metadata": {},
     "output_type": "execute_result"
    }
   ],
   "source": [
    "pixel.backbone.config.problem_type"
   ]
  },
  {
   "cell_type": "code",
   "execution_count": 25,
   "metadata": {},
   "outputs": [
    {
     "name": "stderr",
     "output_type": "stream",
     "text": [
      "/work/sc118/sc118/yintaotai/miniconda3/envs/pt2hfpy310/lib/python3.10/site-packages/transformers/modeling_utils.py:884: FutureWarning: The `device` argument is deprecated and will be removed in v5 of Transformers.\n",
      "  warnings.warn(\n"
     ]
    }
   ],
   "source": [
    "result = pixel.backbone.forward(pixel_values=latent._value, attention_mask=tg.attention_mask, labels=torch.tensor([[1, 2]]))"
   ]
  },
  {
   "cell_type": "code",
   "execution_count": 26,
   "metadata": {},
   "outputs": [
    {
     "data": {
      "text/plain": [
       "tensor([1, 1])"
      ]
     },
     "execution_count": 26,
     "metadata": {},
     "output_type": "execute_result"
    }
   ],
   "source": [
    "result.logits.argmax(-1)"
   ]
  },
  {
   "cell_type": "code",
   "execution_count": 27,
   "metadata": {},
   "outputs": [
    {
     "data": {
      "text/plain": [
       "tensor(1.2557, grad_fn=<NllLossBackward0>)"
      ]
     },
     "execution_count": 27,
     "metadata": {},
     "output_type": "execute_result"
    }
   ],
   "source": [
    "result.loss"
   ]
  },
  {
   "cell_type": "code",
   "execution_count": 3,
   "metadata": {},
   "outputs": [
    {
     "name": "stdout",
     "output_type": "stream",
     "text": [
      "loss torch.Size([1, 4, 4, 2116])\n",
      "attention_mask torch.Size([4, 2116])\n"
     ]
    }
   ],
   "source": [
    "tg = TGraph.from_text(['this is a sentence' * 10])\n",
    "tg.init_patch_mask('rand')\n",
    "r: TGraph = gpt(tg)"
   ]
  },
  {
   "cell_type": "code",
   "execution_count": 7,
   "metadata": {},
   "outputs": [
    {
     "name": "stdout",
     "output_type": "stream",
     "text": [
      "loading the coder from testgptc\n"
     ]
    },
    {
     "data": {
      "text/plain": [
       "AutoencoderKL(\n",
       "  (encoder): Encoder(\n",
       "    (conv_in): Conv2d(3, 128, kernel_size=(3, 3), stride=(1, 1), padding=(1, 1))\n",
       "    (down_blocks): ModuleList(\n",
       "      (0): DownEncoderBlock2D(\n",
       "        (resnets): ModuleList(\n",
       "          (0-1): 2 x ResnetBlock2D(\n",
       "            (norm1): GroupNorm(32, 128, eps=1e-06, affine=True)\n",
       "            (conv1): Conv2d(128, 128, kernel_size=(3, 3), stride=(1, 1), padding=(1, 1))\n",
       "            (norm2): GroupNorm(32, 128, eps=1e-06, affine=True)\n",
       "            (dropout): Dropout(p=0.0, inplace=False)\n",
       "            (conv2): Conv2d(128, 128, kernel_size=(3, 3), stride=(1, 1), padding=(1, 1))\n",
       "            (nonlinearity): SiLU()\n",
       "          )\n",
       "        )\n",
       "        (downsamplers): ModuleList(\n",
       "          (0): Downsample2D(\n",
       "            (conv): Conv2d(128, 128, kernel_size=(3, 3), stride=(2, 2))\n",
       "          )\n",
       "        )\n",
       "      )\n",
       "      (1): DownEncoderBlock2D(\n",
       "        (resnets): ModuleList(\n",
       "          (0): ResnetBlock2D(\n",
       "            (norm1): GroupNorm(32, 128, eps=1e-06, affine=True)\n",
       "            (conv1): Conv2d(128, 256, kernel_size=(3, 3), stride=(1, 1), padding=(1, 1))\n",
       "            (norm2): GroupNorm(32, 256, eps=1e-06, affine=True)\n",
       "            (dropout): Dropout(p=0.0, inplace=False)\n",
       "            (conv2): Conv2d(256, 256, kernel_size=(3, 3), stride=(1, 1), padding=(1, 1))\n",
       "            (nonlinearity): SiLU()\n",
       "            (conv_shortcut): Conv2d(128, 256, kernel_size=(1, 1), stride=(1, 1))\n",
       "          )\n",
       "          (1): ResnetBlock2D(\n",
       "            (norm1): GroupNorm(32, 256, eps=1e-06, affine=True)\n",
       "            (conv1): Conv2d(256, 256, kernel_size=(3, 3), stride=(1, 1), padding=(1, 1))\n",
       "            (norm2): GroupNorm(32, 256, eps=1e-06, affine=True)\n",
       "            (dropout): Dropout(p=0.0, inplace=False)\n",
       "            (conv2): Conv2d(256, 256, kernel_size=(3, 3), stride=(1, 1), padding=(1, 1))\n",
       "            (nonlinearity): SiLU()\n",
       "          )\n",
       "        )\n",
       "        (downsamplers): ModuleList(\n",
       "          (0): Downsample2D(\n",
       "            (conv): Conv2d(256, 256, kernel_size=(3, 3), stride=(2, 2))\n",
       "          )\n",
       "        )\n",
       "      )\n",
       "      (2): DownEncoderBlock2D(\n",
       "        (resnets): ModuleList(\n",
       "          (0): ResnetBlock2D(\n",
       "            (norm1): GroupNorm(32, 256, eps=1e-06, affine=True)\n",
       "            (conv1): Conv2d(256, 512, kernel_size=(3, 3), stride=(1, 1), padding=(1, 1))\n",
       "            (norm2): GroupNorm(32, 512, eps=1e-06, affine=True)\n",
       "            (dropout): Dropout(p=0.0, inplace=False)\n",
       "            (conv2): Conv2d(512, 512, kernel_size=(3, 3), stride=(1, 1), padding=(1, 1))\n",
       "            (nonlinearity): SiLU()\n",
       "            (conv_shortcut): Conv2d(256, 512, kernel_size=(1, 1), stride=(1, 1))\n",
       "          )\n",
       "          (1): ResnetBlock2D(\n",
       "            (norm1): GroupNorm(32, 512, eps=1e-06, affine=True)\n",
       "            (conv1): Conv2d(512, 512, kernel_size=(3, 3), stride=(1, 1), padding=(1, 1))\n",
       "            (norm2): GroupNorm(32, 512, eps=1e-06, affine=True)\n",
       "            (dropout): Dropout(p=0.0, inplace=False)\n",
       "            (conv2): Conv2d(512, 512, kernel_size=(3, 3), stride=(1, 1), padding=(1, 1))\n",
       "            (nonlinearity): SiLU()\n",
       "          )\n",
       "        )\n",
       "        (downsamplers): ModuleList(\n",
       "          (0): Downsample2D(\n",
       "            (conv): Conv2d(512, 512, kernel_size=(3, 3), stride=(2, 2))\n",
       "          )\n",
       "        )\n",
       "      )\n",
       "      (3): DownEncoderBlock2D(\n",
       "        (resnets): ModuleList(\n",
       "          (0-1): 2 x ResnetBlock2D(\n",
       "            (norm1): GroupNorm(32, 512, eps=1e-06, affine=True)\n",
       "            (conv1): Conv2d(512, 512, kernel_size=(3, 3), stride=(1, 1), padding=(1, 1))\n",
       "            (norm2): GroupNorm(32, 512, eps=1e-06, affine=True)\n",
       "            (dropout): Dropout(p=0.0, inplace=False)\n",
       "            (conv2): Conv2d(512, 512, kernel_size=(3, 3), stride=(1, 1), padding=(1, 1))\n",
       "            (nonlinearity): SiLU()\n",
       "          )\n",
       "        )\n",
       "      )\n",
       "    )\n",
       "    (mid_block): UNetMidBlock2D(\n",
       "      (attentions): ModuleList(\n",
       "        (0): Attention(\n",
       "          (group_norm): GroupNorm(32, 512, eps=1e-06, affine=True)\n",
       "          (to_q): Linear(in_features=512, out_features=512, bias=True)\n",
       "          (to_k): Linear(in_features=512, out_features=512, bias=True)\n",
       "          (to_v): Linear(in_features=512, out_features=512, bias=True)\n",
       "          (to_out): ModuleList(\n",
       "            (0): Linear(in_features=512, out_features=512, bias=True)\n",
       "            (1): Dropout(p=0.0, inplace=False)\n",
       "          )\n",
       "        )\n",
       "      )\n",
       "      (resnets): ModuleList(\n",
       "        (0-1): 2 x ResnetBlock2D(\n",
       "          (norm1): GroupNorm(32, 512, eps=1e-06, affine=True)\n",
       "          (conv1): Conv2d(512, 512, kernel_size=(3, 3), stride=(1, 1), padding=(1, 1))\n",
       "          (norm2): GroupNorm(32, 512, eps=1e-06, affine=True)\n",
       "          (dropout): Dropout(p=0.0, inplace=False)\n",
       "          (conv2): Conv2d(512, 512, kernel_size=(3, 3), stride=(1, 1), padding=(1, 1))\n",
       "          (nonlinearity): SiLU()\n",
       "        )\n",
       "      )\n",
       "    )\n",
       "    (conv_norm_out): GroupNorm(32, 512, eps=1e-06, affine=True)\n",
       "    (conv_act): SiLU()\n",
       "    (conv_out): Conv2d(512, 8, kernel_size=(3, 3), stride=(1, 1), padding=(1, 1))\n",
       "  )\n",
       "  (decoder): Decoder(\n",
       "    (conv_in): Conv2d(4, 512, kernel_size=(3, 3), stride=(1, 1), padding=(1, 1))\n",
       "    (up_blocks): ModuleList(\n",
       "      (0-1): 2 x UpDecoderBlock2D(\n",
       "        (resnets): ModuleList(\n",
       "          (0-2): 3 x ResnetBlock2D(\n",
       "            (norm1): GroupNorm(32, 512, eps=1e-06, affine=True)\n",
       "            (conv1): Conv2d(512, 512, kernel_size=(3, 3), stride=(1, 1), padding=(1, 1))\n",
       "            (norm2): GroupNorm(32, 512, eps=1e-06, affine=True)\n",
       "            (dropout): Dropout(p=0.0, inplace=False)\n",
       "            (conv2): Conv2d(512, 512, kernel_size=(3, 3), stride=(1, 1), padding=(1, 1))\n",
       "            (nonlinearity): SiLU()\n",
       "          )\n",
       "        )\n",
       "        (upsamplers): ModuleList(\n",
       "          (0): Upsample2D(\n",
       "            (conv): Conv2d(512, 512, kernel_size=(3, 3), stride=(1, 1), padding=(1, 1))\n",
       "          )\n",
       "        )\n",
       "      )\n",
       "      (2): UpDecoderBlock2D(\n",
       "        (resnets): ModuleList(\n",
       "          (0): ResnetBlock2D(\n",
       "            (norm1): GroupNorm(32, 512, eps=1e-06, affine=True)\n",
       "            (conv1): Conv2d(512, 256, kernel_size=(3, 3), stride=(1, 1), padding=(1, 1))\n",
       "            (norm2): GroupNorm(32, 256, eps=1e-06, affine=True)\n",
       "            (dropout): Dropout(p=0.0, inplace=False)\n",
       "            (conv2): Conv2d(256, 256, kernel_size=(3, 3), stride=(1, 1), padding=(1, 1))\n",
       "            (nonlinearity): SiLU()\n",
       "            (conv_shortcut): Conv2d(512, 256, kernel_size=(1, 1), stride=(1, 1))\n",
       "          )\n",
       "          (1-2): 2 x ResnetBlock2D(\n",
       "            (norm1): GroupNorm(32, 256, eps=1e-06, affine=True)\n",
       "            (conv1): Conv2d(256, 256, kernel_size=(3, 3), stride=(1, 1), padding=(1, 1))\n",
       "            (norm2): GroupNorm(32, 256, eps=1e-06, affine=True)\n",
       "            (dropout): Dropout(p=0.0, inplace=False)\n",
       "            (conv2): Conv2d(256, 256, kernel_size=(3, 3), stride=(1, 1), padding=(1, 1))\n",
       "            (nonlinearity): SiLU()\n",
       "          )\n",
       "        )\n",
       "        (upsamplers): ModuleList(\n",
       "          (0): Upsample2D(\n",
       "            (conv): Conv2d(256, 256, kernel_size=(3, 3), stride=(1, 1), padding=(1, 1))\n",
       "          )\n",
       "        )\n",
       "      )\n",
       "      (3): UpDecoderBlock2D(\n",
       "        (resnets): ModuleList(\n",
       "          (0): ResnetBlock2D(\n",
       "            (norm1): GroupNorm(32, 256, eps=1e-06, affine=True)\n",
       "            (conv1): Conv2d(256, 128, kernel_size=(3, 3), stride=(1, 1), padding=(1, 1))\n",
       "            (norm2): GroupNorm(32, 128, eps=1e-06, affine=True)\n",
       "            (dropout): Dropout(p=0.0, inplace=False)\n",
       "            (conv2): Conv2d(128, 128, kernel_size=(3, 3), stride=(1, 1), padding=(1, 1))\n",
       "            (nonlinearity): SiLU()\n",
       "            (conv_shortcut): Conv2d(256, 128, kernel_size=(1, 1), stride=(1, 1))\n",
       "          )\n",
       "          (1-2): 2 x ResnetBlock2D(\n",
       "            (norm1): GroupNorm(32, 128, eps=1e-06, affine=True)\n",
       "            (conv1): Conv2d(128, 128, kernel_size=(3, 3), stride=(1, 1), padding=(1, 1))\n",
       "            (norm2): GroupNorm(32, 128, eps=1e-06, affine=True)\n",
       "            (dropout): Dropout(p=0.0, inplace=False)\n",
       "            (conv2): Conv2d(128, 128, kernel_size=(3, 3), stride=(1, 1), padding=(1, 1))\n",
       "            (nonlinearity): SiLU()\n",
       "          )\n",
       "        )\n",
       "      )\n",
       "    )\n",
       "    (mid_block): UNetMidBlock2D(\n",
       "      (attentions): ModuleList(\n",
       "        (0): Attention(\n",
       "          (group_norm): GroupNorm(32, 512, eps=1e-06, affine=True)\n",
       "          (to_q): Linear(in_features=512, out_features=512, bias=True)\n",
       "          (to_k): Linear(in_features=512, out_features=512, bias=True)\n",
       "          (to_v): Linear(in_features=512, out_features=512, bias=True)\n",
       "          (to_out): ModuleList(\n",
       "            (0): Linear(in_features=512, out_features=512, bias=True)\n",
       "            (1): Dropout(p=0.0, inplace=False)\n",
       "          )\n",
       "        )\n",
       "      )\n",
       "      (resnets): ModuleList(\n",
       "        (0-1): 2 x ResnetBlock2D(\n",
       "          (norm1): GroupNorm(32, 512, eps=1e-06, affine=True)\n",
       "          (conv1): Conv2d(512, 512, kernel_size=(3, 3), stride=(1, 1), padding=(1, 1))\n",
       "          (norm2): GroupNorm(32, 512, eps=1e-06, affine=True)\n",
       "          (dropout): Dropout(p=0.0, inplace=False)\n",
       "          (conv2): Conv2d(512, 512, kernel_size=(3, 3), stride=(1, 1), padding=(1, 1))\n",
       "          (nonlinearity): SiLU()\n",
       "        )\n",
       "      )\n",
       "    )\n",
       "    (conv_norm_out): GroupNorm(32, 128, eps=1e-06, affine=True)\n",
       "    (conv_act): SiLU()\n",
       "    (conv_out): Conv2d(128, 3, kernel_size=(3, 3), stride=(1, 1), padding=(1, 1))\n",
       "  )\n",
       "  (quant_conv): Conv2d(8, 8, kernel_size=(1, 1), stride=(1, 1))\n",
       "  (post_quant_conv): Conv2d(4, 4, kernel_size=(1, 1), stride=(1, 1))\n",
       ")"
      ]
     },
     "execution_count": 7,
     "metadata": {},
     "output_type": "execute_result"
    }
   ],
   "source": [
    "gpt.load_coder('testgptc')"
   ]
  },
  {
   "cell_type": "code",
   "execution_count": 6,
   "metadata": {},
   "outputs": [
    {
     "data": {
      "text/plain": [
       "torch.Size([1, 3, 32, 16928])"
      ]
     },
     "execution_count": 6,
     "metadata": {},
     "output_type": "execute_result"
    }
   ],
   "source": [
    "r.value.shape"
   ]
  },
  {
   "cell_type": "code",
   "execution_count": 4,
   "metadata": {},
   "outputs": [
    {
     "data": {
      "text/plain": [
       "Conv2d(4, 768, kernel_size=(4, 4), stride=(4, 4), bias=False)"
      ]
     },
     "execution_count": 4,
     "metadata": {},
     "output_type": "execute_result"
    }
   ],
   "source": [
    "gpt.backbone.in_proj"
   ]
  },
  {
   "cell_type": "code",
   "execution_count": 5,
   "metadata": {},
   "outputs": [
    {
     "data": {
      "text/plain": [
       "ConvTranspose2d(768, 4, kernel_size=(4, 4), stride=(4, 4), bias=False)"
      ]
     },
     "execution_count": 5,
     "metadata": {},
     "output_type": "execute_result"
    }
   ],
   "source": [
    "gpt.backbone.out_proj"
   ]
  },
  {
   "cell_type": "code",
   "execution_count": 6,
   "metadata": {},
   "outputs": [
    {
     "data": {
      "text/plain": [
       "ConvTranspose2d(768, 4, kernel_size=(4, 4), stride=(4, 4), bias=False)"
      ]
     },
     "execution_count": 6,
     "metadata": {},
     "output_type": "execute_result"
    }
   ],
   "source": [
    "gpt.backbone.out_proj"
   ]
  },
  {
   "cell_type": "code",
   "execution_count": 37,
   "metadata": {},
   "outputs": [],
   "source": [
    "test = torch.randn([2, 4, 4, 4*529])\n",
    "test[0, :, :, 4*528:] = 0"
   ]
  },
  {
   "cell_type": "code",
   "execution_count": 38,
   "metadata": {},
   "outputs": [],
   "source": [
    "test1 = gpt.backbone.in_proj(test).flatten(2).transpose(1, 2)"
   ]
  },
  {
   "cell_type": "code",
   "execution_count": 39,
   "metadata": {},
   "outputs": [
    {
     "data": {
      "text/plain": [
       "torch.Size([2, 529, 768])"
      ]
     },
     "execution_count": 39,
     "metadata": {},
     "output_type": "execute_result"
    }
   ],
   "source": [
    "test1.shape"
   ]
  },
  {
   "cell_type": "code",
   "execution_count": 40,
   "metadata": {},
   "outputs": [
    {
     "data": {
      "text/plain": [
       "tensor([0., 0., 0., 0., 0., 0., 0., 0., 0., 0., 0., 0., 0., 0., 0., 0., 0., 0., 0., 0., 0., 0., 0., 0.,\n",
       "        0., 0., 0., 0., 0., 0., 0., 0., 0., 0., 0., 0., 0., 0., 0., 0., 0., 0., 0., 0., 0., 0., 0., 0.,\n",
       "        0., 0., 0., 0., 0., 0., 0., 0., 0., 0., 0., 0., 0., 0., 0., 0., 0., 0., 0., 0., 0., 0., 0., 0.,\n",
       "        0., 0., 0., 0., 0., 0., 0., 0., 0., 0., 0., 0., 0., 0., 0., 0., 0., 0., 0., 0., 0., 0., 0., 0.,\n",
       "        0., 0., 0., 0., 0., 0., 0., 0., 0., 0., 0., 0., 0., 0., 0., 0., 0., 0., 0., 0., 0., 0., 0., 0.,\n",
       "        0., 0., 0., 0., 0., 0., 0., 0., 0., 0., 0., 0., 0., 0., 0., 0., 0., 0., 0., 0., 0., 0., 0., 0.,\n",
       "        0., 0., 0., 0., 0., 0., 0., 0., 0., 0., 0., 0., 0., 0., 0., 0., 0., 0., 0., 0., 0., 0., 0., 0.,\n",
       "        0., 0., 0., 0., 0., 0., 0., 0., 0., 0., 0., 0., 0., 0., 0., 0., 0., 0., 0., 0., 0., 0., 0., 0.,\n",
       "        0., 0., 0., 0., 0., 0., 0., 0., 0., 0., 0., 0., 0., 0., 0., 0., 0., 0., 0., 0., 0., 0., 0., 0.,\n",
       "        0., 0., 0., 0., 0., 0., 0., 0., 0., 0., 0., 0., 0., 0., 0., 0., 0., 0., 0., 0., 0., 0., 0., 0.,\n",
       "        0., 0., 0., 0., 0., 0., 0., 0., 0., 0., 0., 0., 0., 0., 0., 0., 0., 0., 0., 0., 0., 0., 0., 0.,\n",
       "        0., 0., 0., 0., 0., 0., 0., 0., 0., 0., 0., 0., 0., 0., 0., 0., 0., 0., 0., 0., 0., 0., 0., 0.,\n",
       "        0., 0., 0., 0., 0., 0., 0., 0., 0., 0., 0., 0., 0., 0., 0., 0., 0., 0., 0., 0., 0., 0., 0., 0.,\n",
       "        0., 0., 0., 0., 0., 0., 0., 0., 0., 0., 0., 0., 0., 0., 0., 0., 0., 0., 0., 0., 0., 0., 0., 0.,\n",
       "        0., 0., 0., 0., 0., 0., 0., 0., 0., 0., 0., 0., 0., 0., 0., 0., 0., 0., 0., 0., 0., 0., 0., 0.,\n",
       "        0., 0., 0., 0., 0., 0., 0., 0., 0., 0., 0., 0., 0., 0., 0., 0., 0., 0., 0., 0., 0., 0., 0., 0.,\n",
       "        0., 0., 0., 0., 0., 0., 0., 0., 0., 0., 0., 0., 0., 0., 0., 0., 0., 0., 0., 0., 0., 0., 0., 0.,\n",
       "        0., 0., 0., 0., 0., 0., 0., 0., 0., 0., 0., 0., 0., 0., 0., 0., 0., 0., 0., 0., 0., 0., 0., 0.,\n",
       "        0., 0., 0., 0., 0., 0., 0., 0., 0., 0., 0., 0., 0., 0., 0., 0., 0., 0., 0., 0., 0., 0., 0., 0.,\n",
       "        0., 0., 0., 0., 0., 0., 0., 0., 0., 0., 0., 0., 0., 0., 0., 0., 0., 0., 0., 0., 0., 0., 0., 0.,\n",
       "        0., 0., 0., 0., 0., 0., 0., 0., 0., 0., 0., 0., 0., 0., 0., 0., 0., 0., 0., 0., 0., 0., 0., 0.,\n",
       "        0., 0., 0., 0., 0., 0., 0., 0., 0., 0., 0., 0., 0., 0., 0., 0., 0., 0., 0., 0., 0., 0., 0., 0.,\n",
       "        0., 0., 0., 0., 0., 0., 0., 0., 0., 0., 0., 0., 0., 0., 0., 0., 0., 0., 0., 0., 0., 0., 0., 0.,\n",
       "        0., 0., 0., 0., 0., 0., 0., 0., 0., 0., 0., 0., 0., 0., 0., 0., 0., 0., 0., 0., 0., 0., 0., 0.,\n",
       "        0., 0., 0., 0., 0., 0., 0., 0., 0., 0., 0., 0., 0., 0., 0., 0., 0., 0., 0., 0., 0., 0., 0., 0.,\n",
       "        0., 0., 0., 0., 0., 0., 0., 0., 0., 0., 0., 0., 0., 0., 0., 0., 0., 0., 0., 0., 0., 0., 0., 0.,\n",
       "        0., 0., 0., 0., 0., 0., 0., 0., 0., 0., 0., 0., 0., 0., 0., 0., 0., 0., 0., 0., 0., 0., 0., 0.,\n",
       "        0., 0., 0., 0., 0., 0., 0., 0., 0., 0., 0., 0., 0., 0., 0., 0., 0., 0., 0., 0., 0., 0., 0., 0.,\n",
       "        0., 0., 0., 0., 0., 0., 0., 0., 0., 0., 0., 0., 0., 0., 0., 0., 0., 0., 0., 0., 0., 0., 0., 0.,\n",
       "        0., 0., 0., 0., 0., 0., 0., 0., 0., 0., 0., 0., 0., 0., 0., 0., 0., 0., 0., 0., 0., 0., 0., 0.,\n",
       "        0., 0., 0., 0., 0., 0., 0., 0., 0., 0., 0., 0., 0., 0., 0., 0., 0., 0., 0., 0., 0., 0., 0., 0.,\n",
       "        0., 0., 0., 0., 0., 0., 0., 0., 0., 0., 0., 0., 0., 0., 0., 0., 0., 0., 0., 0., 0., 0., 0., 0.],\n",
       "       grad_fn=<SelectBackward0>)"
      ]
     },
     "execution_count": 40,
     "metadata": {},
     "output_type": "execute_result"
    }
   ],
   "source": [
    "test1[0, 528]"
   ]
  },
  {
   "cell_type": "code",
   "execution_count": 41,
   "metadata": {},
   "outputs": [
    {
     "data": {
      "text/plain": [
       "torch.Size([2, 768, 1, 529])"
      ]
     },
     "execution_count": 41,
     "metadata": {},
     "output_type": "execute_result"
    }
   ],
   "source": [
    "test2 = test1.transpose(1, 2).unsqueeze(2)\n",
    "test2.shape"
   ]
  },
  {
   "cell_type": "code",
   "execution_count": 43,
   "metadata": {},
   "outputs": [],
   "source": [
    "test3 = gpt.backbone.out_proj(test2)"
   ]
  },
  {
   "cell_type": "code",
   "execution_count": 44,
   "metadata": {},
   "outputs": [
    {
     "data": {
      "text/plain": [
       "torch.Size([2, 4, 4, 2116])"
      ]
     },
     "execution_count": 44,
     "metadata": {},
     "output_type": "execute_result"
    }
   ],
   "source": [
    "test3.shape"
   ]
  },
  {
   "cell_type": "code",
   "execution_count": 52,
   "metadata": {},
   "outputs": [
    {
     "data": {
      "text/plain": [
       "tensor([[-1.5434, -2.0241, -0.2671, -0.0388,  0.0000,  0.0000,  0.0000,  0.0000],\n",
       "        [ 0.1755,  0.5449,  0.4494, -0.6084,  0.0000,  0.0000,  0.0000,  0.0000],\n",
       "        [-0.7187,  0.1441,  0.4418, -0.7696,  0.0000,  0.0000,  0.0000,  0.0000],\n",
       "        [ 1.2200,  2.1017, -1.5394, -1.2013,  0.0000,  0.0000,  0.0000,  0.0000]],\n",
       "       grad_fn=<SliceBackward0>)"
      ]
     },
     "execution_count": 52,
     "metadata": {},
     "output_type": "execute_result"
    }
   ],
   "source": [
    "test3[0, 2, :, 4*527:]"
   ]
  },
  {
   "cell_type": "code",
   "execution_count": 8,
   "metadata": {},
   "outputs": [],
   "source": [
    "from datasets import load_dataset"
   ]
  },
  {
   "cell_type": "code",
   "execution_count": 12,
   "metadata": {},
   "outputs": [
    {
     "name": "stderr",
     "output_type": "stream",
     "text": [
      "Found cached dataset glue (/work/sc118/sc118/yintaotai/huggingface_cache/glue/sst2/1.0.0/dacbe3125aa31d7f70367a07a8a9e72a5a0bfeb5fc42e75c9db75b96da6053ad)\n"
     ]
    },
    {
     "data": {
      "application/vnd.jupyter.widget-view+json": {
       "model_id": "b24b292b20c7491a982fc8069f8d421f",
       "version_major": 2,
       "version_minor": 0
      },
      "text/plain": [
       "  0%|          | 0/3 [00:00<?, ?it/s]"
      ]
     },
     "metadata": {},
     "output_type": "display_data"
    }
   ],
   "source": [
    "data = load_dataset('glue', 'sst2')"
   ]
  },
  {
   "cell_type": "code",
   "execution_count": 23,
   "metadata": {},
   "outputs": [
    {
     "data": {
      "text/plain": [
       "0"
      ]
     },
     "execution_count": 23,
     "metadata": {},
     "output_type": "execute_result"
    }
   ],
   "source": [
    "min(data['train']['label'])"
   ]
  },
  {
   "cell_type": "code",
   "execution_count": 53,
   "metadata": {},
   "outputs": [],
   "source": [
    "from sklearn.feature_selection import r_regression\n",
    "from sklearn.isotonic import check_increasing\n",
    "from scipy.stats import spearmanr\n"
   ]
  },
  {
   "cell_type": "code",
   "execution_count": 36,
   "metadata": {},
   "outputs": [],
   "source": [
    "x = torch.randn([25])\n",
    "y = torch.randn([25])"
   ]
  },
  {
   "cell_type": "code",
   "execution_count": 37,
   "metadata": {},
   "outputs": [
    {
     "data": {
      "text/plain": [
       "array([-0.35900236])"
      ]
     },
     "execution_count": 37,
     "metadata": {},
     "output_type": "execute_result"
    }
   ],
   "source": [
    "r_regression(y.unsqueeze(1), x)"
   ]
  },
  {
   "cell_type": "code",
   "execution_count": 38,
   "metadata": {},
   "outputs": [
    {
     "name": "stderr",
     "output_type": "stream",
     "text": [
      "/work/sc118/sc118/yintaotai/miniconda3/envs/pt2hfpy310/lib/python3.10/site-packages/sklearn/isotonic.py:72: UserWarning: Confidence interval of the Spearman correlation coefficient spans zero. Determination of ``increasing`` may be suspect.\n",
      "  warnings.warn(\n"
     ]
    },
    {
     "data": {
      "text/plain": [
       "False"
      ]
     },
     "execution_count": 38,
     "metadata": {},
     "output_type": "execute_result"
    }
   ],
   "source": [
    "check_increasing(x, y)"
   ]
  },
  {
   "cell_type": "code",
   "execution_count": 41,
   "metadata": {},
   "outputs": [
    {
     "ename": "IndexError",
     "evalue": "Dimension out of range (expected to be in range of [-1, 0], but got 1)",
     "output_type": "error",
     "traceback": [
      "\u001b[0;31m---------------------------------------------------------------------------\u001b[0m",
      "\u001b[0;31mIndexError\u001b[0m                                Traceback (most recent call last)",
      "Cell \u001b[0;32mIn[41], line 1\u001b[0m\n\u001b[0;32m----> 1\u001b[0m z \u001b[39m=\u001b[39m torch\u001b[39m.\u001b[39;49mcat([x, y], \u001b[39m1\u001b[39;49m)\n\u001b[1;32m      2\u001b[0m torch\u001b[39m.\u001b[39mcorrcoef(x, y)\n",
      "\u001b[0;31mIndexError\u001b[0m: Dimension out of range (expected to be in range of [-1, 0], but got 1)"
     ]
    }
   ],
   "source": [
    "z = torch.cat([x, y], 1)\n",
    "torch.corrcoef(x, y)"
   ]
  },
  {
   "cell_type": "code",
   "execution_count": 52,
   "metadata": {},
   "outputs": [
    {
     "data": {
      "text/plain": [
       "tensor([[1., 1.],\n",
       "        [1., 1.]])"
      ]
     },
     "execution_count": 52,
     "metadata": {},
     "output_type": "execute_result"
    }
   ],
   "source": [
    "z = torch.cat([x.unsqueeze(0), x.unsqueeze(0)], 0)\n",
    "torch.corrcoef(z)"
   ]
  },
  {
   "cell_type": "code",
   "execution_count": 61,
   "metadata": {},
   "outputs": [
    {
     "data": {
      "text/plain": [
       "tensor([[ 1.0737,  0.2292, -0.7755, -1.1825, -0.2974,  0.7446, -0.5225,  0.4524,\n",
       "          0.8721, -0.4253,  0.4445,  0.7918,  0.9407,  0.7764, -0.5844, -1.0665,\n",
       "          0.8239,  0.9631, -1.7365, -0.8120, -0.1938, -0.6648, -0.5479,  0.0563,\n",
       "          0.0155],\n",
       "        [ 1.0737,  0.2292, -0.7755, -1.1825, -0.2974,  0.7446, -0.5225,  0.4524,\n",
       "          0.8721, -0.4253,  0.4445,  0.7918,  0.9407,  0.7764, -0.5844, -1.0665,\n",
       "          0.8239,  0.9631, -1.7365, -0.8120, -0.1938, -0.6648, -0.5479,  0.0563,\n",
       "          0.0155]])"
      ]
     },
     "execution_count": 61,
     "metadata": {},
     "output_type": "execute_result"
    }
   ],
   "source": [
    "z"
   ]
  },
  {
   "cell_type": "code",
   "execution_count": 51,
   "metadata": {},
   "outputs": [
    {
     "data": {
      "text/plain": [
       "tensor([ 1.0737,  0.2292, -0.7755, -1.1825, -0.2974,  0.7446, -0.5225,  0.4524,\n",
       "         0.8721, -0.4253,  0.4445,  0.7918,  0.9407,  0.7764, -0.5844, -1.0665,\n",
       "         0.8239,  0.9631, -1.7365, -0.8120, -0.1938, -0.6648, -0.5479,  0.0563,\n",
       "         0.0155])"
      ]
     },
     "execution_count": 51,
     "metadata": {},
     "output_type": "execute_result"
    }
   ],
   "source": [
    "x"
   ]
  },
  {
   "cell_type": "code",
   "execution_count": 60,
   "metadata": {},
   "outputs": [
    {
     "data": {
      "text/plain": [
       "-0.2792307692307692"
      ]
     },
     "execution_count": 60,
     "metadata": {},
     "output_type": "execute_result"
    }
   ],
   "source": [
    "spearmanr(x.tolist(), y.tolist()).statistic"
   ]
  },
  {
   "cell_type": "code",
   "execution_count": 33,
   "metadata": {},
   "outputs": [],
   "source": [
    "a = torch.randn([6, 4, 3, 1587])\n",
    "b = torch.randn([6, 3, 1587]).unsqueeze(1)"
   ]
  },
  {
   "cell_type": "code",
   "execution_count": 34,
   "metadata": {},
   "outputs": [
    {
     "data": {
      "text/plain": [
       "tensor([[[[ 1.5463e-01, -5.1946e-01,  8.3427e-01,  ..., -3.4802e-02,\n",
       "           -4.8067e-01, -7.7102e-01],\n",
       "          [ 8.2560e-02, -4.2176e-02,  9.2452e-03,  ..., -1.1269e-01,\n",
       "            2.3402e-02,  5.5810e-01],\n",
       "          [-3.3604e-01,  6.0198e-01, -1.9294e-02,  ..., -4.7259e-01,\n",
       "            5.4446e-01,  4.8747e-02]],\n",
       "\n",
       "         [[ 1.0295e-01, -2.1744e+00, -3.6195e-01,  ..., -1.5480e-02,\n",
       "           -4.7069e-02, -1.1261e+00],\n",
       "          [ 1.8461e-01,  1.1367e+00, -1.0771e-02,  ..., -2.8918e-01,\n",
       "           -1.4733e+00,  1.7462e-01],\n",
       "          [-1.4952e+00,  3.9007e-01, -7.8901e-02,  ...,  6.1379e-01,\n",
       "           -1.7326e+00, -8.1790e-02]],\n",
       "\n",
       "         [[-1.4182e-01, -2.4000e-01, -1.3953e-01,  ..., -4.7799e-02,\n",
       "            7.3503e-01,  2.2638e+00],\n",
       "          [-1.0469e-01,  8.0707e-01,  1.0392e-02,  ...,  3.1664e-01,\n",
       "           -2.6168e-01, -9.5351e-01],\n",
       "          [-1.2184e-01, -1.0882e+00,  6.7330e-02,  ...,  3.5869e-01,\n",
       "            3.4718e+00,  5.0007e-02]],\n",
       "\n",
       "         [[-1.5519e-02,  1.6251e+00,  1.1109e-01,  ...,  3.8425e-02,\n",
       "           -4.3112e-01, -5.9632e-01],\n",
       "          [ 4.5866e-02, -2.0454e-01, -1.9555e-03,  ...,  1.5671e-01,\n",
       "            1.7637e-01,  9.8900e-01],\n",
       "          [ 2.8615e-01,  9.1292e-01, -1.6788e-01,  ..., -7.0709e-01,\n",
       "            8.4392e-01,  2.0426e-01]]],\n",
       "\n",
       "\n",
       "        [[[-4.5415e-01,  1.3969e-01,  2.6739e-01,  ...,  3.5549e-01,\n",
       "            2.0048e-01, -7.8259e-01],\n",
       "          [-6.4873e-01, -6.2068e-01,  8.4116e-02,  ...,  4.3865e+00,\n",
       "            1.8556e+00,  9.7983e-02],\n",
       "          [ 1.7711e-01, -5.9329e-02,  1.7497e-01,  ..., -4.5898e-02,\n",
       "           -4.8290e-01, -7.0070e-01]],\n",
       "\n",
       "         [[-1.2575e-01, -5.6555e-02, -1.5568e+00,  ..., -2.1456e-01,\n",
       "            1.2828e+00, -4.1267e-01],\n",
       "          [ 1.2258e+00,  3.1824e-01,  1.2998e-01,  ..., -9.9171e-01,\n",
       "            1.9199e+00,  7.5460e-01],\n",
       "          [ 4.2788e-01,  1.6287e-01,  9.7604e-02,  ...,  5.5014e-02,\n",
       "            1.0513e-01, -7.9290e-03]],\n",
       "\n",
       "         [[ 1.5781e-01, -6.9068e-01, -3.8265e-01,  ...,  1.6568e-02,\n",
       "           -2.1766e+00, -1.2397e+00],\n",
       "          [ 1.5144e+00,  3.4272e-01, -2.3415e-02,  ...,  3.8183e-01,\n",
       "           -1.4401e+00,  2.3467e-02],\n",
       "          [ 3.3178e-01, -9.3493e-02, -1.9826e-01,  ...,  3.9072e-02,\n",
       "            1.4015e-02, -5.4598e-01]],\n",
       "\n",
       "         [[ 1.5808e-02,  1.1419e-01, -9.5697e-01,  ..., -5.9844e-02,\n",
       "           -2.0344e-02, -1.7764e-01],\n",
       "          [-3.0670e-01,  7.5680e-01, -7.6152e-02,  ...,  3.0848e+00,\n",
       "            6.0204e-02,  4.7402e-01],\n",
       "          [ 4.9638e-02, -7.0354e-02, -1.0976e-01,  ...,  3.2145e-02,\n",
       "            4.9104e-01,  1.8224e+00]]],\n",
       "\n",
       "\n",
       "        [[[ 9.0513e-02,  5.3248e-02,  1.0822e+00,  ...,  6.2876e-01,\n",
       "           -7.9728e-02, -1.4891e+00],\n",
       "          [-4.0359e-01, -4.7670e-01,  3.2389e-01,  ...,  4.1467e-01,\n",
       "            2.6868e+00,  8.7200e-01],\n",
       "          [ 1.3734e-01,  1.2493e+00,  4.4783e-01,  ...,  1.6972e-01,\n",
       "           -3.4441e+00, -4.7493e-03]],\n",
       "\n",
       "         [[ 3.7776e-01,  5.8515e-01, -1.6295e+00,  ...,  1.2202e-01,\n",
       "           -2.3503e+00, -4.4271e+00],\n",
       "          [-3.2750e-02,  3.2888e-01, -2.3288e-01,  ...,  3.6857e-01,\n",
       "           -2.6153e-02, -9.1996e-01],\n",
       "          [ 1.2682e-01,  2.8656e-01,  6.6563e-01,  ..., -1.1442e-01,\n",
       "            3.6930e+00,  5.2153e-02]],\n",
       "\n",
       "         [[-1.1174e-01,  5.5000e-01,  1.1007e+00,  ..., -2.2594e+00,\n",
       "            7.0963e-01, -1.2114e+00],\n",
       "          [ 3.2817e-01, -3.6853e-01, -7.9464e-02,  ...,  1.6846e-01,\n",
       "            8.3819e-01,  3.1528e-01],\n",
       "          [-8.1837e-02,  3.3098e-01,  8.5976e-03,  ...,  3.6152e-01,\n",
       "           -2.0576e+00, -4.7375e-03]],\n",
       "\n",
       "         [[-1.7633e-01, -3.9272e-03,  5.5063e-01,  ..., -3.9970e-01,\n",
       "           -4.0789e-01, -3.5602e+00],\n",
       "          [-1.6003e-01,  2.8882e-01, -8.3504e-01,  ..., -8.5046e-02,\n",
       "           -1.0640e+00,  2.3930e-01],\n",
       "          [-1.0961e+00,  4.7783e-02,  3.8724e-01,  ...,  1.3228e-01,\n",
       "            1.3433e+00,  2.4786e-02]]],\n",
       "\n",
       "\n",
       "        [[[-1.4865e-01, -7.3278e-01,  6.9046e-02,  ...,  3.8438e-01,\n",
       "           -5.7350e-01,  1.0118e+00],\n",
       "          [ 1.3800e-01, -2.6729e-02, -1.8969e-01,  ...,  1.2007e-01,\n",
       "            1.3033e-01, -4.0111e-01],\n",
       "          [ 2.0876e+00,  6.0521e-03, -4.3813e-01,  ...,  8.6263e-02,\n",
       "            6.8597e-01,  1.3640e-01]],\n",
       "\n",
       "         [[ 1.4722e+00,  6.5381e-01, -2.1000e-01,  ..., -1.2593e-01,\n",
       "           -1.2533e+00, -5.9536e-01],\n",
       "          [-1.8103e-01,  4.2912e-02,  2.1638e-01,  ..., -1.8226e-01,\n",
       "           -1.6059e+00,  1.9157e-02],\n",
       "          [ 1.0590e+00, -4.8043e-02,  1.6311e+00,  ...,  5.3229e-01,\n",
       "           -6.8357e-01, -1.4591e-01]],\n",
       "\n",
       "         [[ 6.7384e-01,  3.5932e-01, -8.4728e-02,  ..., -1.9350e-01,\n",
       "           -8.3864e-02, -2.4546e+00],\n",
       "          [ 2.2694e-01,  3.8651e-02, -5.8878e-01,  ...,  2.7348e-02,\n",
       "            9.7702e-01, -5.0439e-01],\n",
       "          [-6.6268e-01,  8.8608e-02, -8.4778e-01,  ...,  9.7247e-01,\n",
       "           -4.2433e-01,  3.3981e-01]],\n",
       "\n",
       "         [[ 3.9524e-01,  1.3691e-01, -9.7339e-02,  ...,  5.0302e-01,\n",
       "            2.7614e-01,  5.0206e-01],\n",
       "          [-3.9736e-01,  1.0854e-01, -1.2246e+00,  ...,  1.6672e-01,\n",
       "           -9.3421e-01,  1.4570e+00],\n",
       "          [ 1.7415e+00,  4.2799e-02, -8.4741e-01,  ..., -5.1020e-01,\n",
       "            1.4876e+00,  2.4076e-01]]],\n",
       "\n",
       "\n",
       "        [[[ 3.8255e-01, -1.9857e+00,  4.3259e-01,  ..., -1.0119e+00,\n",
       "            2.0113e-01, -6.6908e-01],\n",
       "          [-7.0169e-01,  2.5738e-01,  3.3688e-01,  ...,  6.4100e-01,\n",
       "           -1.4138e+00,  3.5884e-02],\n",
       "          [ 1.9550e-02,  3.8061e-01, -1.6806e-02,  ..., -6.6989e-01,\n",
       "           -4.1194e-01,  2.1207e-02]],\n",
       "\n",
       "         [[-1.4049e+00, -1.3178e+00, -4.5775e-01,  ...,  1.0159e+00,\n",
       "            6.2363e-02,  1.4402e+00],\n",
       "          [ 1.8317e-01, -2.2604e-01, -8.9991e-02,  ..., -2.3117e-01,\n",
       "            4.5962e+00, -1.5599e-01],\n",
       "          [ 1.0475e-01,  1.0627e-01,  1.2664e-01,  ..., -9.0568e-01,\n",
       "           -5.1189e-01, -5.0138e-02]],\n",
       "\n",
       "         [[-1.2455e+00,  5.6053e-01, -1.4846e-01,  ..., -1.0085e+00,\n",
       "           -3.1928e-02,  8.2250e-01],\n",
       "          [ 2.0192e-01, -1.9203e-01, -1.0640e-01,  ...,  4.1531e-01,\n",
       "           -2.5343e+00,  5.9794e-02],\n",
       "          [ 4.6294e-02,  3.3345e-01, -2.6102e-01,  ...,  1.5106e+00,\n",
       "            1.2346e+00,  2.8389e-02]],\n",
       "\n",
       "         [[-2.3022e-01, -3.0415e-01, -1.7133e-01,  ..., -1.5619e-01,\n",
       "           -8.6720e-02,  1.0960e+00],\n",
       "          [-1.0342e+00, -9.1730e-01, -8.2470e-01,  ...,  7.9231e-01,\n",
       "            6.8368e-01,  1.1428e-02],\n",
       "          [ 1.6509e-01, -1.5731e+00, -8.1102e-02,  ..., -4.4894e-01,\n",
       "            4.9537e-01, -6.9967e-02]]],\n",
       "\n",
       "\n",
       "        [[[-4.4818e-01, -1.5015e-01,  4.4525e-01,  ...,  1.5056e+00,\n",
       "           -3.3249e-02,  8.5404e-01],\n",
       "          [ 1.1869e+00, -1.2536e-01,  5.1478e-02,  ..., -1.0610e+00,\n",
       "           -9.4924e-03,  1.1743e+00],\n",
       "          [-5.3699e-02,  6.9694e-01,  5.6378e-01,  ...,  1.0772e+00,\n",
       "           -6.1769e-01, -4.3417e-01]],\n",
       "\n",
       "         [[ 6.5429e-02,  9.5335e-02, -5.1379e-01,  ..., -1.0001e+00,\n",
       "           -7.4942e-03,  4.1794e-01],\n",
       "          [ 2.2224e-01, -1.9588e-01, -1.0224e+00,  ..., -5.6609e+00,\n",
       "           -8.6627e-02,  1.2841e-01],\n",
       "          [ 2.0290e-01,  3.6686e-01, -3.3525e-01,  ..., -1.5684e+00,\n",
       "            8.4984e-01,  3.5877e-01]],\n",
       "\n",
       "         [[-5.3345e-02, -1.9688e-01, -3.9365e-02,  ..., -2.4410e-01,\n",
       "           -3.6768e-02,  3.0031e-01],\n",
       "          [-9.3828e-03,  1.8735e-02, -8.7522e-01,  ...,  9.5621e-01,\n",
       "            1.4789e-01,  1.4287e+00],\n",
       "          [ 6.6947e-03,  2.3964e-01, -1.2253e+00,  ...,  2.5685e+00,\n",
       "            3.2405e+00,  1.3643e+00]],\n",
       "\n",
       "         [[ 2.7841e-02,  2.6648e-01, -9.1669e-01,  ..., -2.6992e-01,\n",
       "            7.4454e-03,  1.2802e+00],\n",
       "          [ 5.8983e-01,  2.6549e-02,  5.0273e-01,  ..., -9.4600e-01,\n",
       "            1.4391e-01,  3.1251e+00],\n",
       "          [ 1.2757e-01, -5.8874e-02,  1.7532e+00,  ..., -1.8333e+00,\n",
       "           -2.6257e+00,  3.4146e-01]]]])"
      ]
     },
     "execution_count": 34,
     "metadata": {},
     "output_type": "execute_result"
    }
   ],
   "source": [
    "a * b"
   ]
  },
  {
   "cell_type": "code",
   "execution_count": 1,
   "metadata": {},
   "outputs": [],
   "source": [
    "from datasets import load_dataset, interleave_datasets, load_from_disk\n",
    "from datasets.distributed import split_dataset_by_node\n",
    "from collections import defaultdict\n",
    "\n",
    "from LatentPixel import TGraph, RenderConfig, get_glue_dataset\n",
    "import torch\n",
    "from torch.utils.data import DataLoader\n",
    "import os\n"
   ]
  },
  {
   "cell_type": "code",
   "execution_count": 122,
   "metadata": {},
   "outputs": [],
   "source": [
    "def collate_glue(batch: dict) -> TGraph:\n",
    "    merged = defaultdict(list)\n",
    "    for sample in batch:\n",
    "        for k, v in sample.items():\n",
    "            merged[k].append(v)\n",
    "    batch = merged\n",
    "    label = batch['label']\n",
    "    if len(batch) == 4:\n",
    "        keys = list(batch.keys())\n",
    "        text = list(zip(batch[keys[0]], batch[keys[1]]))\n",
    "    elif len(batch) == 3:\n",
    "        key = list(batch.keys())[0]\n",
    "        text = batch[key]\n",
    "    else:\n",
    "        raise ValueError(f'GLUE dataset should be 3 or 4 fields, but got {len(batch)} fields')\n",
    "    \n",
    "    tgraph = TGraph.from_text(text)\n",
    "    tgraph.labels = torch.tensor(label)\n",
    "    assert isinstance(tgraph.labels, torch.LongTensor) or isinstance(tgraph.labels, torch.DoubleTensor)\n",
    "    tgraph.attention_mask   # init the attention mask\n",
    "    \n",
    "    return tgraph\n"
   ]
  },
  {
   "cell_type": "code",
   "execution_count": 135,
   "metadata": {},
   "outputs": [
    {
     "name": "stderr",
     "output_type": "stream",
     "text": [
      "Found cached dataset glue (/home/sc118/sc118/yintaotai/.cache/huggingface/datasets/glue/cola/1.0.0/dacbe3125aa31d7f70367a07a8a9e72a5a0bfeb5fc42e75c9db75b96da6053ad)\n"
     ]
    }
   ],
   "source": [
    "data = load_dataset('glue', 'cola', split='train')\n",
    "data = split_dataset_by_node(data, 0, 16)"
   ]
  },
  {
   "cell_type": "code",
   "execution_count": 136,
   "metadata": {},
   "outputs": [
    {
     "data": {
      "text/plain": [
       "535"
      ]
     },
     "execution_count": 136,
     "metadata": {},
     "output_type": "execute_result"
    }
   ],
   "source": [
    "len(data)"
   ]
  },
  {
   "cell_type": "code",
   "execution_count": 2,
   "metadata": {},
   "outputs": [
    {
     "ename": "NameError",
     "evalue": "name 'a' is not defined",
     "output_type": "error",
     "traceback": [
      "\u001b[0;31m---------------------------------------------------------------------------\u001b[0m",
      "\u001b[0;31mNameError\u001b[0m                                 Traceback (most recent call last)",
      "Cell \u001b[0;32mIn[2], line 1\u001b[0m\n\u001b[0;32m----> 1\u001b[0m a\n",
      "\u001b[0;31mNameError\u001b[0m: name 'a' is not defined"
     ]
    }
   ],
   "source": [
    "a"
   ]
  },
  {
   "cell_type": "code",
   "execution_count": 126,
   "metadata": {},
   "outputs": [],
   "source": [
    "loader = DataLoader(data, batch_size=8, collate_fn=collate_glue, num_workers=4)"
   ]
  },
  {
   "cell_type": "code",
   "execution_count": 127,
   "metadata": {},
   "outputs": [
    {
     "name": "stdout",
     "output_type": "stream",
     "text": [
      "[1, 0, 0, 0, 1, 1, 0, 1]\n",
      "[1, 1, 1, 1, 1, 1, 1, 1]\n",
      "[1, 1, 1, 1, 1, 1, 1, 1][1, 1, 1, 1, 1, 1, 1, 1][1, 1, 1, 1, 1, 1, 1, 1]\n",
      "\n",
      "\n"
     ]
    }
   ],
   "source": [
    "batch = next(iter(loader))"
   ]
  },
  {
   "cell_type": "code",
   "execution_count": 129,
   "metadata": {},
   "outputs": [
    {
     "data": {
      "text/plain": [
       "torch.int64"
      ]
     },
     "execution_count": 129,
     "metadata": {},
     "output_type": "execute_result"
    }
   ],
   "source": [
    "batch.labels.dtype"
   ]
  },
  {
   "cell_type": "code",
   "execution_count": 68,
   "metadata": {},
   "outputs": [
    {
     "data": {
      "text/plain": [
       "4"
      ]
     },
     "execution_count": 68,
     "metadata": {},
     "output_type": "execute_result"
    }
   ],
   "source": [
    "len(batch)"
   ]
  },
  {
   "cell_type": "code",
   "execution_count": 51,
   "metadata": {},
   "outputs": [],
   "source": [
    "b = TGraph.from_text(list(zip(batch[list(batch.keys())[0]], batch[list(batch.keys())[1]])))"
   ]
  },
  {
   "cell_type": "code",
   "execution_count": 67,
   "metadata": {},
   "outputs": [
    {
     "data": {
      "image/png": "[encoded data removed]",
      "text/plain": [
       "<PIL.Image.Image image mode=RGB size=368x368>"
      ]
     },
     "execution_count": 67,
     "metadata": {},
     "output_type": "execute_result"
    }
   ],
   "source": [
    "b.squarelize().to_PIL()[0]"
   ]
  },
  {
   "cell_type": "code",
   "execution_count": 63,
   "metadata": {},
   "outputs": [
    {
     "data": {
      "text/plain": [
       "tensor(20.)"
      ]
     },
     "execution_count": 63,
     "metadata": {},
     "output_type": "execute_result"
    }
   ],
   "source": [
    "b.attention_mask[0].sum()"
   ]
  },
  {
   "cell_type": "code",
   "execution_count": 65,
   "metadata": {},
   "outputs": [
    {
     "data": {
      "text/plain": [
       "529"
      ]
     },
     "execution_count": 65,
     "metadata": {},
     "output_type": "execute_result"
    }
   ],
   "source": [
    "23*23"
   ]
  },
  {
   "cell_type": "code",
   "execution_count": 3,
   "metadata": {},
   "outputs": [],
   "source": [
    "rconfig = RenderConfig()\n",
    "render = TGraph.init_render(**rconfig.to_dict())"
   ]
  },
  {
   "cell_type": "code",
   "execution_count": 4,
   "metadata": {},
   "outputs": [
    {
     "data": {
      "text/plain": [
       "pixel.data.rendering.pangocairo_renderer.PangoCairoTextRenderer"
      ]
     },
     "execution_count": 4,
     "metadata": {},
     "output_type": "execute_result"
    }
   ],
   "source": [
    "type(render)"
   ]
  },
  {
   "cell_type": "code",
   "execution_count": 8,
   "metadata": {},
   "outputs": [],
   "source": [
    "t = TGraph.from_text([('this is a sentecne', 'another one'), ('this is a sentecne', 'another one')])"
   ]
  },
  {
   "cell_type": "code",
   "execution_count": 11,
   "metadata": {},
   "outputs": [
    {
     "data": {
      "image/png": "[encoded data removed]",
      "text/plain": [
       "<PIL.Image.Image image mode=RGB size=368x368>"
      ]
     },
     "execution_count": 11,
     "metadata": {},
     "output_type": "execute_result"
    }
   ],
   "source": [
    "t.squarelize().to_PIL()[1]"
   ]
  },
  {
   "cell_type": "code",
   "execution_count": 21,
   "metadata": {},
   "outputs": [
    {
     "data": {
      "text/plain": [
       "(16, 8464, 3)"
      ]
     },
     "execution_count": 21,
     "metadata": {},
     "output_type": "execute_result"
    }
   ],
   "source": [
    "a.pixel_values.shape"
   ]
  },
  {
   "cell_type": "code",
   "execution_count": 22,
   "metadata": {},
   "outputs": [],
   "source": [
    "import matplotlib.pyplot as plt"
   ]
  },
  {
   "cell_type": "code",
   "execution_count": 26,
   "metadata": {},
   "outputs": [
    {
     "data": {
      "text/plain": [
       "<matplotlib.image.AxesImage at 0x7f5ac8459000>"
      ]
     },
     "execution_count": 26,
     "metadata": {},
     "output_type": "execute_result"
    },
    {
     "data": {
      "image/png": "[encoded data removed]",
      "text/plain": [
       "<Figure size 640x480 with 1 Axes>"
      ]
     },
     "metadata": {},
     "output_type": "display_data"
    }
   ],
   "source": [
    "plt.imshow(a.pixel_values[:, :300, :])"
   ]
  },
  {
   "cell_type": "code",
   "execution_count": null,
   "metadata": {},
   "outputs": [],
   "source": []
  }
 ],
 "metadata": {
  "kernelspec": {
   "display_name": "Python 3",
   "language": "python",
   "name": "python3"
  },
  "language_info": {
   "codemirror_mode": {
    "name": "ipython",
    "version": 3
   },
   "file_extension": ".py",
   "mimetype": "text/x-python",
   "name": "python",
   "nbconvert_exporter": "python",
   "pygments_lexer": "ipython3",
   "version": "3.10.12"
  },
  "orig_nbformat": 4,
  "vscode": {
   "interpreter": {
    "hash": "c44f36e446dbacec008653a856e66ff1e85db08dec5a7e40c028d54fc7a43cbe"
   }
  }
 },
 "nbformat": 4,
 "nbformat_minor": 2
}
