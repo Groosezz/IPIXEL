{
 "cells": [
  {
   "cell_type": "code",
   "execution_count": 1,
   "metadata": {},
   "outputs": [],
   "source": [
    "import os\n",
    "import torch\n",
    "import torchvision.datasets as datasets\n",
    "import torchvision.transforms as transforms\n",
    "from torch import multiprocessing\n",
    "# multiprocessing.set_start_method('forkserver')\n",
    "from torch.utils.data import DataLoader\n",
    "from LatentPixel import TGraph, init_render, get_pretrain_dataloader, ModelType\n",
    "from tqdm import tqdm\n",
    "\n",
    "from datasets import load_dataset\n",
    "\n",
    "_ = init_render('storage/pixel-base')\n"
   ]
  },
  {
   "cell_type": "code",
   "execution_count": 10,
   "metadata": {},
   "outputs": [
    {
     "name": "stdout",
     "output_type": "stream",
     "text": [
      "Datasets loaded from ['storage/arrows', 'storage/enwiki']\n",
      "Convert the dataset into a streaming dataset\n",
      "128\n",
      "128\n",
      "Begin to interleave datasets\n",
      "128\n",
      "128\n"
     ]
    }
   ],
   "source": [
    "data_paths = ['storage/enwiki', 'storage/arrows']\n",
    "loader = get_pretrain_dataloader(\n",
    "    paths=data_paths,\n",
    "    batch_size=64,\n",
    "    num_workers=6,\n",
    "    seed=42,\n",
    "    model_type=None,\n",
    "    pin_memory_device='cuda',\n",
    "    streaming=True\n",
    ")"
   ]
  },
  {
   "cell_type": "code",
   "execution_count": 11,
   "metadata": {},
   "outputs": [
    {
     "name": "stdout",
     "output_type": "stream",
     "text": [
      "pid 1351199's current affinity mask: 101\n",
      "pid 1351199's new affinity mask: ffff\n",
      "pid 1351202's current affinity mask: 101\n",
      "pid 1351202's new affinity mask: ffff\n"
     ]
    },
    {
     "name": "stdout",
     "output_type": "stream",
     "text": [
      "pid 1351205's current affinity mask: 101\n",
      "pid 1351205's new affinity mask: ffff\n",
      "pid 1351208's current affinity mask: 101\n",
      "pid 1351208's new affinity mask: ffff\n",
      "pid 1351211's current affinity mask: 101\n",
      "pid 1351211's new affinity mask: ffff\n",
      "pid 1351214's current affinity mask: 101\n",
      "pid 1351214's new affinity mask: ffff\n"
     ]
    },
    {
     "name": "stderr",
     "output_type": "stream",
     "text": [
      " 19%|█▉        | 57/300 [00:02<00:11, 21.19it/s]Found 2 unknown glyphs in word: E x c l u s i v e  o r  o r  e x c l u s i v e  d i s j u n c t i o n  i s  a  l o g i c a l  o p e r a t i o n  t h a t  i s  t r u e  i f  a n d  o n l y  i f  i t s  a r g u m e n t s  d i f f e r  ( o n e  i s  t r u e ,  t h e  o t h e r  i s  f a l s e ) .   I t  i s  s y m b o l i z e d  b y  t h e  p r e f i x  o p e r a t o r  J  a n d  b y  t h e  i n f i x  o p e r a t o r s  X O R  (  o r  ) ,  E O R ,  E X O R ,  ⊻ ,  ⩒ ,  ⩛ ,  ⊕ , . Consider double-checking that the correct fonts are loaded.\n",
      "100%|██████████| 300/300 [00:13<00:00, 22.93it/s]\n"
     ]
    }
   ],
   "source": [
    "it = iter(loader)\n",
    "for i in tqdm(range(300)):\n",
    "    batch = next(it)\n",
    "    batch.to_device('cuda')\n",
    "    batch.to_SD()"
   ]
  },
  {
   "cell_type": "code",
   "execution_count": 5,
   "metadata": {},
   "outputs": [
    {
     "data": {
      "text/plain": [
       "<LatentPixel.text_graph.TGraph at 0x7f1475c0be20>"
      ]
     },
     "execution_count": 5,
     "metadata": {},
     "output_type": "execute_result"
    }
   ],
   "source": [
    "batch"
   ]
  },
  {
   "cell_type": "code",
   "execution_count": null,
   "metadata": {},
   "outputs": [],
   "source": []
  }
 ],
 "metadata": {
  "kernelspec": {
   "display_name": "pt2hfpy310",
   "language": "python",
   "name": "python3"
  },
  "language_info": {
   "codemirror_mode": {
    "name": "ipython",
    "version": 3
   },
   "file_extension": ".py",
   "mimetype": "text/x-python",
   "name": "python",
   "nbconvert_exporter": "python",
   "pygments_lexer": "ipython3",
   "version": "3.10.11"
  },
  "orig_nbformat": 4
 },
 "nbformat": 4,
 "nbformat_minor": 2
}
